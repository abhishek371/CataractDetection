{
  "nbformat": 4,
  "nbformat_minor": 0,
  "metadata": {
    "colab": {
      "name": "CNN_CataractDetection.ipynb",
      "provenance": []
    },
    "kernelspec": {
      "name": "python3",
      "display_name": "Python 3"
    },
    "accelerator": "GPU"
  },
  "cells": [
    {
      "cell_type": "code",
      "metadata": {
        "id": "GfPWIqRJmXP2",
        "colab_type": "code",
        "outputId": "60eb608f-6397-49ed-a169-6309f8f17ece",
        "colab": {
          "base_uri": "https://localhost:8080/",
          "height": 35
        }
      },
      "source": [
        "import tensorflow as tf\n",
        "tf.test.gpu_device_name()"
      ],
      "execution_count": 1,
      "outputs": [
        {
          "output_type": "execute_result",
          "data": {
            "text/plain": [
              "'/device:GPU:0'"
            ]
          },
          "metadata": {
            "tags": []
          },
          "execution_count": 1
        }
      ]
    },
    {
      "cell_type": "code",
      "metadata": {
        "id": "gozT1wZmnuuv",
        "colab_type": "code",
        "outputId": "256f94c5-98c6-43b1-bf17-f6298ba6d59b",
        "colab": {
          "base_uri": "https://localhost:8080/",
          "height": 124
        }
      },
      "source": [
        "from google.colab import drive\n",
        "drive.mount('/content/drive')\n",
        "\n",
        "\n"
      ],
      "execution_count": 2,
      "outputs": [
        {
          "output_type": "stream",
          "text": [
            "Go to this URL in a browser: https://accounts.google.com/o/oauth2/auth?client_id=947318989803-6bn6qk8qdgf4n4g3pfee6491hc0brc4i.apps.googleusercontent.com&redirect_uri=urn%3aietf%3awg%3aoauth%3a2.0%3aoob&response_type=code&scope=email%20https%3a%2f%2fwww.googleapis.com%2fauth%2fdocs.test%20https%3a%2f%2fwww.googleapis.com%2fauth%2fdrive%20https%3a%2f%2fwww.googleapis.com%2fauth%2fdrive.photos.readonly%20https%3a%2f%2fwww.googleapis.com%2fauth%2fpeopleapi.readonly\n",
            "\n",
            "Enter your authorization code:\n",
            "··········\n",
            "Mounted at /content/drive\n"
          ],
          "name": "stdout"
        }
      ]
    },
    {
      "cell_type": "code",
      "metadata": {
        "id": "A81010tTrevF",
        "colab_type": "code",
        "outputId": "b7bd5174-cdcb-4e9a-e92f-625f29fc7d15",
        "colab": {
          "base_uri": "https://localhost:8080/",
          "height": 52
        }
      },
      "source": [
        "!ls \"/content/drive/My Drive/Colab Notebooks\""
      ],
      "execution_count": 3,
      "outputs": [
        {
          "output_type": "stream",
          "text": [
            "Cataract_Dataset\t     modified_data_2000.zip\n",
            "CNN_CataractDetection.ipynb  Untitled0.ipynb\n"
          ],
          "name": "stdout"
        }
      ]
    },
    {
      "cell_type": "code",
      "metadata": {
        "id": "KJb0XQJgrxlj",
        "colab_type": "code",
        "outputId": "beed1148-e7d9-4b50-8044-8434a2fd0193",
        "colab": {
          "base_uri": "https://localhost:8080/",
          "height": 35
        }
      },
      "source": [
        "!pwd"
      ],
      "execution_count": 0,
      "outputs": [
        {
          "output_type": "stream",
          "text": [
            "/content\n"
          ],
          "name": "stdout"
        }
      ]
    },
    {
      "cell_type": "code",
      "metadata": {
        "id": "ay4zITzxtkOG",
        "colab_type": "code",
        "outputId": "e5680c60-8b4d-4fb3-b1fa-5dcabc8e2ffc",
        "colab": {
          "base_uri": "https://localhost:8080/",
          "height": 35
        }
      },
      "source": [
        "# Importing Libraries\n",
        "from tensorflow import keras\n",
        "from numpy import expand_dims\n",
        "from keras.preprocessing.image import load_img\n",
        "from keras.preprocessing.image import img_to_array\n",
        "from keras.preprocessing.image import ImageDataGenerator\n",
        "import matplotlib.pyplot as plt\n",
        "import glob \n",
        "import numpy as np\n",
        "from os import listdir,makedirs\n",
        "from os.path import isfile,join\n",
        "from numpy import *\n",
        "from PIL import Image\n",
        "from sklearn.utils import shuffle\n",
        "from sklearn.model_selection import train_test_split\n",
        "import random\n",
        "import cv2\n",
        "import os "
      ],
      "execution_count": 5,
      "outputs": [
        {
          "output_type": "stream",
          "text": [
            "Using TensorFlow backend.\n"
          ],
          "name": "stderr"
        }
      ]
    },
    {
      "cell_type": "code",
      "metadata": {
        "id": "AIAi7DmSukes",
        "colab_type": "code",
        "colab": {}
      },
      "source": [
        "# path to dataset\n",
        "path_2=\"/content/drive/My Drive/Colab Notebooks/Cataract_Dataset\""
      ],
      "execution_count": 0,
      "outputs": []
    },
    {
      "cell_type": "code",
      "metadata": {
        "id": "ONSJk0upv3U0",
        "colab_type": "code",
        "outputId": "8b02df21-625c-4a5b-ed61-782b782f6fe0",
        "colab": {
          "base_uri": "https://localhost:8080/",
          "height": 52
        }
      },
      "source": [
        "IMG_SIZE=300\n",
        "\n",
        "def label_img(name):\n",
        "\tif name[0:2]==\"no\":\n",
        "\t\treturn np.array([1,0])\n",
        "\telif name[0:2]==\"ca\":\n",
        "\t\treturn np.array([0,1])\n",
        "\n",
        "def load_training_data(arg):\n",
        "\ttrain_data=[]\n",
        "\tDIR=path_2+\"/\"+arg\n",
        "\tfor img in os.listdir(DIR):\n",
        "\t\tlabel=label_img(img)\n",
        "\t\tpath=os.path.join(DIR,img)\n",
        "\t\timg=Image.open(path)\n",
        "\t\timg=img.convert('L')\n",
        "\t\timg.resize((IMG_SIZE,IMG_SIZE),Image.ANTIALIAS)\n",
        "\t\ttrain_data.append([np.array(img),label])\n",
        "\tshuffle(train_data)\n",
        "\treturn train_data\n",
        "a=load_training_data(\"Normal\")\n",
        "print(\"Normal Eyes image loaded!!\")\n",
        "b=load_training_data(\"Cataract\")\n",
        "print(\"Cataract Eyes image loaded!!\")"
      ],
      "execution_count": 7,
      "outputs": [
        {
          "output_type": "stream",
          "text": [
            "Normal Eyes image loaded!!\n",
            "Cataract Eyes image loaded!!\n"
          ],
          "name": "stdout"
        }
      ]
    },
    {
      "cell_type": "code",
      "metadata": {
        "id": "YxSNBWpSwTPH",
        "colab_type": "code",
        "outputId": "7a5d2b00-0296-491a-8956-4564fd85198a",
        "colab": {
          "base_uri": "https://localhost:8080/",
          "height": 52
        }
      },
      "source": [
        "# preparing training data\n",
        "print(len(a),len(b))\n",
        "train_data=[]\n",
        "# shuffle(a)\n",
        "for i in range(len(a)):\n",
        "\ttrain_data.append(a[i])\n",
        "# shuffle(train_data)\n",
        "for i in range(len(b)):\n",
        "\ttrain_data.append(b[i])\n",
        "shuffle(train_data)\n",
        "print(len(train_data))"
      ],
      "execution_count": 8,
      "outputs": [
        {
          "output_type": "stream",
          "text": [
            "2000 2000\n",
            "4000\n"
          ],
          "name": "stdout"
        }
      ]
    },
    {
      "cell_type": "code",
      "metadata": {
        "id": "qZEwDEaVyt7h",
        "colab_type": "code",
        "outputId": "db993d01-79e2-4612-b4c7-5bac0b1f1dd3",
        "colab": {
          "base_uri": "https://localhost:8080/",
          "height": 35
        }
      },
      "source": [
        "print(len(train_data))\n",
        "trainImages = np.array([i[0] for i in train_data]).reshape(-1, IMG_SIZE, IMG_SIZE, 1)\n",
        "trainLabels = np.array([i[1] for i in train_data])"
      ],
      "execution_count": 9,
      "outputs": [
        {
          "output_type": "stream",
          "text": [
            "4000\n"
          ],
          "name": "stdout"
        }
      ]
    },
    {
      "cell_type": "code",
      "metadata": {
        "id": "lB6RedWsL_Lw",
        "colab_type": "code",
        "outputId": "2e5861f2-6685-467a-f11b-681ae4937d4f",
        "colab": {
          "base_uri": "https://localhost:8080/",
          "height": 936
        }
      },
      "source": [
        "from keras.models import Sequential\n",
        "from keras import regularizers\n",
        "from keras.layers import Conv2D, MaxPooling2D\n",
        "from keras.layers import Activation, Dropout, Flatten, Dense\n",
        "from keras.layers.normalization import BatchNormalization\n",
        "\n",
        "# IMG_SIZE=300\n",
        "model = Sequential()\n",
        "model.add(Conv2D(32, kernel_size = (3, 3), activation='relu', input_shape=(IMG_SIZE, IMG_SIZE, 1),kernel_regularizer=regularizers.l2(0.01)))\n",
        "model.add(MaxPooling2D(pool_size=(2,2)))\n",
        "model.add(BatchNormalization())\n",
        "model.add(Conv2D(64, kernel_size=(3,3), activation='relu',kernel_regularizer=regularizers.l2(0.01)))\n",
        "model.add(MaxPooling2D(pool_size=(2,2)))\n",
        "model.add(BatchNormalization())\n",
        "model.add(Conv2D(64, kernel_size=(3,3), activation='relu',kernel_regularizer=regularizers.l2(0.01)))\n",
        "model.add(MaxPooling2D(pool_size=(2,2)))\n",
        "model.add(BatchNormalization())\n",
        "model.add(Conv2D(96, kernel_size=(3,3), activation='relu',kernel_regularizer=regularizers.l2(0.01)))\n",
        "model.add(MaxPooling2D(pool_size=(2,2)))\n",
        "model.add(BatchNormalization())\n",
        "model.add(Conv2D(32, kernel_size=(3,3), activation='relu',kernel_regularizer=regularizers.l2(0.01)))\n",
        "model.add(MaxPooling2D(pool_size=(2,2)))\n",
        "model.add(BatchNormalization())\n",
        "model.add(Dropout(0.2))\n",
        "model.add(Flatten())\n",
        "# model.add(Dense(512, activation='relu',kernel_regularizer=regularizers.l2(0.001)))\n",
        "# model.add(Dropout(0.3))\n",
        "model.add(Dense(256, activation='relu',kernel_regularizer=regularizers.l2(0.01)))\n",
        "model.add(Dropout(0.3))\n",
        "model.add(Dense(128, activation='relu',kernel_regularizer=regularizers.l2(0.01)))\n",
        "model.add(Dropout(0.3))\n",
        "model.add(Dense(2, activation = 'softmax'))\n",
        "\n",
        "model.compile(loss='binary_crossentropy', optimizer='adam', metrics = ['accuracy'])\n",
        "print(\"compile Done!! \")\n",
        "model.summary()"
      ],
      "execution_count": 10,
      "outputs": [
        {
          "output_type": "stream",
          "text": [
            "compile Done!! \n",
            "Model: \"sequential_1\"\n",
            "_________________________________________________________________\n",
            "Layer (type)                 Output Shape              Param #   \n",
            "=================================================================\n",
            "conv2d_1 (Conv2D)            (None, 298, 298, 32)      320       \n",
            "_________________________________________________________________\n",
            "max_pooling2d_1 (MaxPooling2 (None, 149, 149, 32)      0         \n",
            "_________________________________________________________________\n",
            "batch_normalization_1 (Batch (None, 149, 149, 32)      128       \n",
            "_________________________________________________________________\n",
            "conv2d_2 (Conv2D)            (None, 147, 147, 64)      18496     \n",
            "_________________________________________________________________\n",
            "max_pooling2d_2 (MaxPooling2 (None, 73, 73, 64)        0         \n",
            "_________________________________________________________________\n",
            "batch_normalization_2 (Batch (None, 73, 73, 64)        256       \n",
            "_________________________________________________________________\n",
            "conv2d_3 (Conv2D)            (None, 71, 71, 64)        36928     \n",
            "_________________________________________________________________\n",
            "max_pooling2d_3 (MaxPooling2 (None, 35, 35, 64)        0         \n",
            "_________________________________________________________________\n",
            "batch_normalization_3 (Batch (None, 35, 35, 64)        256       \n",
            "_________________________________________________________________\n",
            "conv2d_4 (Conv2D)            (None, 33, 33, 96)        55392     \n",
            "_________________________________________________________________\n",
            "max_pooling2d_4 (MaxPooling2 (None, 16, 16, 96)        0         \n",
            "_________________________________________________________________\n",
            "batch_normalization_4 (Batch (None, 16, 16, 96)        384       \n",
            "_________________________________________________________________\n",
            "conv2d_5 (Conv2D)            (None, 14, 14, 32)        27680     \n",
            "_________________________________________________________________\n",
            "max_pooling2d_5 (MaxPooling2 (None, 7, 7, 32)          0         \n",
            "_________________________________________________________________\n",
            "batch_normalization_5 (Batch (None, 7, 7, 32)          128       \n",
            "_________________________________________________________________\n",
            "dropout_1 (Dropout)          (None, 7, 7, 32)          0         \n",
            "_________________________________________________________________\n",
            "flatten_1 (Flatten)          (None, 1568)              0         \n",
            "_________________________________________________________________\n",
            "dense_1 (Dense)              (None, 256)               401664    \n",
            "_________________________________________________________________\n",
            "dropout_2 (Dropout)          (None, 256)               0         \n",
            "_________________________________________________________________\n",
            "dense_2 (Dense)              (None, 128)               32896     \n",
            "_________________________________________________________________\n",
            "dropout_3 (Dropout)          (None, 128)               0         \n",
            "_________________________________________________________________\n",
            "dense_3 (Dense)              (None, 2)                 258       \n",
            "=================================================================\n",
            "Total params: 574,786\n",
            "Trainable params: 574,210\n",
            "Non-trainable params: 576\n",
            "_________________________________________________________________\n"
          ],
          "name": "stdout"
        }
      ]
    },
    {
      "cell_type": "code",
      "metadata": {
        "id": "UiuQnnbXMAXw",
        "colab_type": "code",
        "colab": {}
      },
      "source": [
        "# Spliting dataset into training and testing\n",
        "from sklearn.model_selection import train_test_split\n",
        "trainX, testX, trainY, testY = train_test_split(trainImages, trainLabels, test_size=0.125,random_state=1234)"
      ],
      "execution_count": 0,
      "outputs": []
    },
    {
      "cell_type": "code",
      "metadata": {
        "id": "hhCU3v_iNLp6",
        "colab_type": "code",
        "outputId": "0d1ec882-fc5e-4c21-efaf-09d3dfbde975",
        "colab": {
          "base_uri": "https://localhost:8080/",
          "height": 1000
        }
      },
      "source": [
        "# Fitting the model \n",
        "history = model.fit(trainX, trainY,\n",
        "                    batch_size=10,\n",
        "                    epochs=100,\n",
        "                    # We pass some validation for\n",
        "                    # monitoring validation loss and metrics\n",
        "                    # at the end of each epoch\n",
        "                    validation_data=(testX,testY),verbose=1)"
      ],
      "execution_count": 15,
      "outputs": [
        {
          "output_type": "stream",
          "text": [
            "Train on 3500 samples, validate on 500 samples\n",
            "Epoch 1/100\n",
            "3500/3500 [==============================] - 24s 7ms/step - loss: 4.8354 - accuracy: 0.6323 - val_loss: 2.8570 - val_accuracy: 0.5780\n",
            "Epoch 2/100\n",
            "3500/3500 [==============================] - 16s 4ms/step - loss: 1.6030 - accuracy: 0.7220 - val_loss: 1.1424 - val_accuracy: 0.7540\n",
            "Epoch 3/100\n",
            "3500/3500 [==============================] - 16s 4ms/step - loss: 0.9504 - accuracy: 0.7466 - val_loss: 1.0928 - val_accuracy: 0.4920\n",
            "Epoch 4/100\n",
            "3500/3500 [==============================] - 16s 4ms/step - loss: 0.7956 - accuracy: 0.7411 - val_loss: 1.2760 - val_accuracy: 0.4920\n",
            "Epoch 5/100\n",
            "3500/3500 [==============================] - 16s 4ms/step - loss: 0.7674 - accuracy: 0.7329 - val_loss: 0.7441 - val_accuracy: 0.7100\n",
            "Epoch 6/100\n",
            "3500/3500 [==============================] - 16s 4ms/step - loss: 0.7081 - accuracy: 0.7483 - val_loss: 1.5225 - val_accuracy: 0.4920\n",
            "Epoch 7/100\n",
            "3500/3500 [==============================] - 16s 4ms/step - loss: 0.6057 - accuracy: 0.8137 - val_loss: 1.1597 - val_accuracy: 0.5600\n",
            "Epoch 8/100\n",
            "3500/3500 [==============================] - 16s 4ms/step - loss: 0.5060 - accuracy: 0.8389 - val_loss: 0.6066 - val_accuracy: 0.7920\n",
            "Epoch 9/100\n",
            "3500/3500 [==============================] - 16s 4ms/step - loss: 0.4728 - accuracy: 0.8486 - val_loss: 0.5998 - val_accuracy: 0.7860\n",
            "Epoch 10/100\n",
            "3500/3500 [==============================] - 16s 4ms/step - loss: 0.4992 - accuracy: 0.8457 - val_loss: 0.5234 - val_accuracy: 0.8240\n",
            "Epoch 11/100\n",
            "3500/3500 [==============================] - 16s 4ms/step - loss: 0.4869 - accuracy: 0.8423 - val_loss: 0.9317 - val_accuracy: 0.7040\n",
            "Epoch 12/100\n",
            "3500/3500 [==============================] - 16s 4ms/step - loss: 0.4773 - accuracy: 0.8486 - val_loss: 0.5129 - val_accuracy: 0.8320\n",
            "Epoch 13/100\n",
            "3500/3500 [==============================] - 16s 4ms/step - loss: 0.4727 - accuracy: 0.8500 - val_loss: 0.5086 - val_accuracy: 0.8380\n",
            "Epoch 14/100\n",
            "3500/3500 [==============================] - 16s 4ms/step - loss: 0.4589 - accuracy: 0.8446 - val_loss: 1.0581 - val_accuracy: 0.5380\n",
            "Epoch 15/100\n",
            "3500/3500 [==============================] - 16s 4ms/step - loss: 0.4615 - accuracy: 0.8463 - val_loss: 0.5037 - val_accuracy: 0.7880\n",
            "Epoch 16/100\n",
            "3500/3500 [==============================] - 16s 4ms/step - loss: 0.4466 - accuracy: 0.8566 - val_loss: 0.6363 - val_accuracy: 0.7780\n",
            "Epoch 17/100\n",
            "3500/3500 [==============================] - 15s 4ms/step - loss: 0.4576 - accuracy: 0.8514 - val_loss: 0.4969 - val_accuracy: 0.8140\n",
            "Epoch 18/100\n",
            "3500/3500 [==============================] - 15s 4ms/step - loss: 0.4627 - accuracy: 0.8531 - val_loss: 0.5544 - val_accuracy: 0.8100\n",
            "Epoch 19/100\n",
            "3500/3500 [==============================] - 15s 4ms/step - loss: 0.4560 - accuracy: 0.8534 - val_loss: 0.4540 - val_accuracy: 0.8500\n",
            "Epoch 20/100\n",
            "3500/3500 [==============================] - 16s 4ms/step - loss: 0.4425 - accuracy: 0.8589 - val_loss: 0.4822 - val_accuracy: 0.8280\n",
            "Epoch 21/100\n",
            "3500/3500 [==============================] - 16s 4ms/step - loss: 0.4498 - accuracy: 0.8577 - val_loss: 0.4545 - val_accuracy: 0.8320\n",
            "Epoch 22/100\n",
            "3500/3500 [==============================] - 16s 4ms/step - loss: 0.4480 - accuracy: 0.8517 - val_loss: 0.5556 - val_accuracy: 0.7600\n",
            "Epoch 23/100\n",
            "3500/3500 [==============================] - 16s 4ms/step - loss: 0.4292 - accuracy: 0.8617 - val_loss: 0.4863 - val_accuracy: 0.8340\n",
            "Epoch 24/100\n",
            "3500/3500 [==============================] - 16s 4ms/step - loss: 0.4206 - accuracy: 0.8614 - val_loss: 0.4677 - val_accuracy: 0.8400\n",
            "Epoch 25/100\n",
            "3500/3500 [==============================] - 16s 4ms/step - loss: 0.4382 - accuracy: 0.8634 - val_loss: 0.4414 - val_accuracy: 0.8500\n",
            "Epoch 26/100\n",
            "3500/3500 [==============================] - 15s 4ms/step - loss: 0.4483 - accuracy: 0.8460 - val_loss: 0.5124 - val_accuracy: 0.8280\n",
            "Epoch 27/100\n",
            "3500/3500 [==============================] - 16s 4ms/step - loss: 0.4328 - accuracy: 0.8614 - val_loss: 0.6874 - val_accuracy: 0.7160\n",
            "Epoch 28/100\n",
            "3500/3500 [==============================] - 16s 4ms/step - loss: 0.4227 - accuracy: 0.8620 - val_loss: 0.5823 - val_accuracy: 0.7540\n",
            "Epoch 29/100\n",
            "3500/3500 [==============================] - 15s 4ms/step - loss: 0.4146 - accuracy: 0.8589 - val_loss: 0.9285 - val_accuracy: 0.6180\n",
            "Epoch 30/100\n",
            "3500/3500 [==============================] - 16s 4ms/step - loss: 0.4217 - accuracy: 0.8634 - val_loss: 0.6417 - val_accuracy: 0.7500\n",
            "Epoch 31/100\n",
            "3500/3500 [==============================] - 15s 4ms/step - loss: 0.4326 - accuracy: 0.8554 - val_loss: 0.4747 - val_accuracy: 0.8240\n",
            "Epoch 32/100\n",
            "3500/3500 [==============================] - 16s 4ms/step - loss: 0.4190 - accuracy: 0.8617 - val_loss: 0.8674 - val_accuracy: 0.6340\n",
            "Epoch 33/100\n",
            "3500/3500 [==============================] - 16s 4ms/step - loss: 0.4256 - accuracy: 0.8591 - val_loss: 0.4273 - val_accuracy: 0.8500\n",
            "Epoch 34/100\n",
            "3500/3500 [==============================] - 16s 4ms/step - loss: 0.4136 - accuracy: 0.8683 - val_loss: 0.4800 - val_accuracy: 0.8400\n",
            "Epoch 35/100\n",
            "3500/3500 [==============================] - 16s 4ms/step - loss: 0.4128 - accuracy: 0.8643 - val_loss: 0.5361 - val_accuracy: 0.8020\n",
            "Epoch 36/100\n",
            "3500/3500 [==============================] - 16s 4ms/step - loss: 0.4085 - accuracy: 0.8677 - val_loss: 0.4465 - val_accuracy: 0.8540\n",
            "Epoch 37/100\n",
            "3500/3500 [==============================] - 15s 4ms/step - loss: 0.4112 - accuracy: 0.8720 - val_loss: 0.4641 - val_accuracy: 0.8380\n",
            "Epoch 38/100\n",
            "3500/3500 [==============================] - 15s 4ms/step - loss: 0.4145 - accuracy: 0.8663 - val_loss: 0.4492 - val_accuracy: 0.8540\n",
            "Epoch 39/100\n",
            "3500/3500 [==============================] - 16s 4ms/step - loss: 0.4082 - accuracy: 0.8743 - val_loss: 0.5214 - val_accuracy: 0.8140\n",
            "Epoch 40/100\n",
            "3500/3500 [==============================] - 15s 4ms/step - loss: 0.3964 - accuracy: 0.8777 - val_loss: 0.5258 - val_accuracy: 0.8160\n",
            "Epoch 41/100\n",
            "3500/3500 [==============================] - 15s 4ms/step - loss: 0.3810 - accuracy: 0.8889 - val_loss: 0.4522 - val_accuracy: 0.8400\n",
            "Epoch 42/100\n",
            "3500/3500 [==============================] - 15s 4ms/step - loss: 0.3802 - accuracy: 0.8860 - val_loss: 0.4436 - val_accuracy: 0.8560\n",
            "Epoch 43/100\n",
            "3500/3500 [==============================] - 15s 4ms/step - loss: 0.3772 - accuracy: 0.8903 - val_loss: 0.3975 - val_accuracy: 0.8660\n",
            "Epoch 44/100\n",
            "3500/3500 [==============================] - 15s 4ms/step - loss: 0.3779 - accuracy: 0.8917 - val_loss: 0.4524 - val_accuracy: 0.8480\n",
            "Epoch 45/100\n",
            "3500/3500 [==============================] - 15s 4ms/step - loss: 0.3701 - accuracy: 0.8991 - val_loss: 0.4440 - val_accuracy: 0.8500\n",
            "Epoch 46/100\n",
            "3500/3500 [==============================] - 16s 4ms/step - loss: 0.3748 - accuracy: 0.8946 - val_loss: 0.4846 - val_accuracy: 0.8420\n",
            "Epoch 47/100\n",
            "3500/3500 [==============================] - 15s 4ms/step - loss: 0.3685 - accuracy: 0.8994 - val_loss: 0.4655 - val_accuracy: 0.8560\n",
            "Epoch 48/100\n",
            "3500/3500 [==============================] - 15s 4ms/step - loss: 0.3684 - accuracy: 0.8997 - val_loss: 0.4703 - val_accuracy: 0.8460\n",
            "Epoch 49/100\n",
            "3500/3500 [==============================] - 16s 4ms/step - loss: 0.3656 - accuracy: 0.9040 - val_loss: 0.4821 - val_accuracy: 0.8400\n",
            "Epoch 50/100\n",
            "3500/3500 [==============================] - 15s 4ms/step - loss: 0.3675 - accuracy: 0.9066 - val_loss: 0.4429 - val_accuracy: 0.8600\n",
            "Epoch 51/100\n",
            "3500/3500 [==============================] - 15s 4ms/step - loss: 0.3448 - accuracy: 0.9137 - val_loss: 0.5113 - val_accuracy: 0.8440\n",
            "Epoch 52/100\n",
            "3500/3500 [==============================] - 15s 4ms/step - loss: 0.3466 - accuracy: 0.9180 - val_loss: 0.4624 - val_accuracy: 0.8660\n",
            "Epoch 53/100\n",
            "3500/3500 [==============================] - 15s 4ms/step - loss: 0.3318 - accuracy: 0.9166 - val_loss: 0.4037 - val_accuracy: 0.8900\n",
            "Epoch 54/100\n",
            "3500/3500 [==============================] - 15s 4ms/step - loss: 0.3441 - accuracy: 0.9206 - val_loss: 0.4455 - val_accuracy: 0.8500\n",
            "Epoch 55/100\n",
            "3500/3500 [==============================] - 16s 4ms/step - loss: 0.3291 - accuracy: 0.9277 - val_loss: 0.4471 - val_accuracy: 0.8640\n",
            "Epoch 56/100\n",
            "3500/3500 [==============================] - 15s 4ms/step - loss: 0.3487 - accuracy: 0.9169 - val_loss: 0.3872 - val_accuracy: 0.8960\n",
            "Epoch 57/100\n",
            "3500/3500 [==============================] - 15s 4ms/step - loss: 0.3265 - accuracy: 0.9294 - val_loss: 0.3740 - val_accuracy: 0.9060\n",
            "Epoch 58/100\n",
            "3500/3500 [==============================] - 15s 4ms/step - loss: 0.3409 - accuracy: 0.9203 - val_loss: 0.7940 - val_accuracy: 0.7640\n",
            "Epoch 59/100\n",
            "3500/3500 [==============================] - 15s 4ms/step - loss: 0.3434 - accuracy: 0.9249 - val_loss: 0.4501 - val_accuracy: 0.8760\n",
            "Epoch 60/100\n",
            "3500/3500 [==============================] - 16s 4ms/step - loss: 0.3328 - accuracy: 0.9249 - val_loss: 0.4184 - val_accuracy: 0.8800\n",
            "Epoch 61/100\n",
            "3500/3500 [==============================] - 15s 4ms/step - loss: 0.3318 - accuracy: 0.9311 - val_loss: 0.4439 - val_accuracy: 0.8840\n",
            "Epoch 62/100\n",
            "3500/3500 [==============================] - 15s 4ms/step - loss: 0.3359 - accuracy: 0.9263 - val_loss: 0.4946 - val_accuracy: 0.8700\n",
            "Epoch 63/100\n",
            "3500/3500 [==============================] - 15s 4ms/step - loss: 0.3221 - accuracy: 0.9389 - val_loss: 0.5572 - val_accuracy: 0.8420\n",
            "Epoch 64/100\n",
            "3500/3500 [==============================] - 15s 4ms/step - loss: 0.3440 - accuracy: 0.9226 - val_loss: 0.4361 - val_accuracy: 0.8940\n",
            "Epoch 65/100\n",
            "3500/3500 [==============================] - 15s 4ms/step - loss: 0.3169 - accuracy: 0.9380 - val_loss: 0.4820 - val_accuracy: 0.8660\n",
            "Epoch 66/100\n",
            "3500/3500 [==============================] - 15s 4ms/step - loss: 0.3145 - accuracy: 0.9366 - val_loss: 0.5320 - val_accuracy: 0.8300\n",
            "Epoch 67/100\n",
            "3500/3500 [==============================] - 15s 4ms/step - loss: 0.3182 - accuracy: 0.9380 - val_loss: 0.4646 - val_accuracy: 0.8740\n",
            "Epoch 68/100\n",
            "3500/3500 [==============================] - 15s 4ms/step - loss: 0.3181 - accuracy: 0.9403 - val_loss: 0.4224 - val_accuracy: 0.8920\n",
            "Epoch 69/100\n",
            "3500/3500 [==============================] - 15s 4ms/step - loss: 0.2985 - accuracy: 0.9443 - val_loss: 0.4458 - val_accuracy: 0.8880\n",
            "Epoch 70/100\n",
            "3500/3500 [==============================] - 15s 4ms/step - loss: 0.3077 - accuracy: 0.9380 - val_loss: 0.4542 - val_accuracy: 0.8760\n",
            "Epoch 71/100\n",
            "3500/3500 [==============================] - 15s 4ms/step - loss: 0.3348 - accuracy: 0.9277 - val_loss: 0.4549 - val_accuracy: 0.8800\n",
            "Epoch 72/100\n",
            "3500/3500 [==============================] - 15s 4ms/step - loss: 0.3118 - accuracy: 0.9360 - val_loss: 0.4893 - val_accuracy: 0.8720\n",
            "Epoch 73/100\n",
            "3500/3500 [==============================] - 15s 4ms/step - loss: 0.3167 - accuracy: 0.9383 - val_loss: 0.4438 - val_accuracy: 0.8860\n",
            "Epoch 74/100\n",
            "3500/3500 [==============================] - 15s 4ms/step - loss: 0.3254 - accuracy: 0.9331 - val_loss: 0.8211 - val_accuracy: 0.7820\n",
            "Epoch 75/100\n",
            "3500/3500 [==============================] - 16s 4ms/step - loss: 0.3093 - accuracy: 0.9417 - val_loss: 0.4710 - val_accuracy: 0.8800\n",
            "Epoch 76/100\n",
            "3500/3500 [==============================] - 15s 4ms/step - loss: 0.3207 - accuracy: 0.9371 - val_loss: 0.6052 - val_accuracy: 0.8300\n",
            "Epoch 77/100\n",
            "3500/3500 [==============================] - 15s 4ms/step - loss: 0.2990 - accuracy: 0.9429 - val_loss: 0.6216 - val_accuracy: 0.8280\n",
            "Epoch 78/100\n",
            "3500/3500 [==============================] - 15s 4ms/step - loss: 0.3198 - accuracy: 0.9394 - val_loss: 0.4931 - val_accuracy: 0.8600\n",
            "Epoch 79/100\n",
            "3500/3500 [==============================] - 15s 4ms/step - loss: 0.3151 - accuracy: 0.9389 - val_loss: 0.4499 - val_accuracy: 0.8900\n",
            "Epoch 80/100\n",
            "3500/3500 [==============================] - 15s 4ms/step - loss: 0.3161 - accuracy: 0.9406 - val_loss: 0.4761 - val_accuracy: 0.8840\n",
            "Epoch 81/100\n",
            "3500/3500 [==============================] - 15s 4ms/step - loss: 0.3092 - accuracy: 0.9411 - val_loss: 0.5206 - val_accuracy: 0.8640\n",
            "Epoch 82/100\n",
            "3500/3500 [==============================] - 15s 4ms/step - loss: 0.3185 - accuracy: 0.9366 - val_loss: 0.4120 - val_accuracy: 0.9140\n",
            "Epoch 83/100\n",
            "3500/3500 [==============================] - 15s 4ms/step - loss: 0.2996 - accuracy: 0.9506 - val_loss: 0.4766 - val_accuracy: 0.8840\n",
            "Epoch 84/100\n",
            "3500/3500 [==============================] - 15s 4ms/step - loss: 0.3103 - accuracy: 0.9449 - val_loss: 0.4489 - val_accuracy: 0.8920\n",
            "Epoch 85/100\n",
            "3500/3500 [==============================] - 15s 4ms/step - loss: 0.3083 - accuracy: 0.9480 - val_loss: 0.5217 - val_accuracy: 0.8680\n",
            "Epoch 86/100\n",
            "3500/3500 [==============================] - 15s 4ms/step - loss: 0.2945 - accuracy: 0.9537 - val_loss: 0.4582 - val_accuracy: 0.8880\n",
            "Epoch 87/100\n",
            "3500/3500 [==============================] - 15s 4ms/step - loss: 0.2975 - accuracy: 0.9500 - val_loss: 0.4361 - val_accuracy: 0.9020\n",
            "Epoch 88/100\n",
            "3500/3500 [==============================] - 15s 4ms/step - loss: 0.3143 - accuracy: 0.9409 - val_loss: 0.4669 - val_accuracy: 0.8960\n",
            "Epoch 89/100\n",
            "3500/3500 [==============================] - 15s 4ms/step - loss: 0.3290 - accuracy: 0.9377 - val_loss: 0.5103 - val_accuracy: 0.8660\n",
            "Epoch 90/100\n",
            "3500/3500 [==============================] - 15s 4ms/step - loss: 0.2929 - accuracy: 0.9529 - val_loss: 0.4627 - val_accuracy: 0.8900\n",
            "Epoch 91/100\n",
            "3500/3500 [==============================] - 15s 4ms/step - loss: 0.3171 - accuracy: 0.9414 - val_loss: 0.4629 - val_accuracy: 0.8760\n",
            "Epoch 92/100\n",
            "3500/3500 [==============================] - 15s 4ms/step - loss: 0.2910 - accuracy: 0.9546 - val_loss: 0.5231 - val_accuracy: 0.8680\n",
            "Epoch 93/100\n",
            "3500/3500 [==============================] - 15s 4ms/step - loss: 0.3014 - accuracy: 0.9491 - val_loss: 0.4908 - val_accuracy: 0.8700\n",
            "Epoch 94/100\n",
            "3500/3500 [==============================] - 15s 4ms/step - loss: 0.3216 - accuracy: 0.9363 - val_loss: 0.4993 - val_accuracy: 0.8800\n",
            "Epoch 95/100\n",
            "3500/3500 [==============================] - 15s 4ms/step - loss: 0.3260 - accuracy: 0.9397 - val_loss: 0.4641 - val_accuracy: 0.8960\n",
            "Epoch 96/100\n",
            "3500/3500 [==============================] - 16s 4ms/step - loss: 0.3067 - accuracy: 0.9449 - val_loss: 0.4289 - val_accuracy: 0.8820\n",
            "Epoch 97/100\n",
            "3500/3500 [==============================] - 15s 4ms/step - loss: 0.3046 - accuracy: 0.9477 - val_loss: 0.4538 - val_accuracy: 0.8720\n",
            "Epoch 98/100\n",
            "3500/3500 [==============================] - 15s 4ms/step - loss: 0.3070 - accuracy: 0.9426 - val_loss: 0.4691 - val_accuracy: 0.8840\n",
            "Epoch 99/100\n",
            "3500/3500 [==============================] - 15s 4ms/step - loss: 0.3268 - accuracy: 0.9383 - val_loss: 0.4437 - val_accuracy: 0.8840\n",
            "Epoch 100/100\n",
            "3500/3500 [==============================] - 15s 4ms/step - loss: 0.3107 - accuracy: 0.9434 - val_loss: 0.4499 - val_accuracy: 0.8840\n"
          ],
          "name": "stdout"
        }
      ]
    },
    {
      "cell_type": "code",
      "metadata": {
        "id": "iJOcq57LNu7z",
        "colab_type": "code",
        "colab": {
          "base_uri": "https://localhost:8080/",
          "height": 295
        },
        "outputId": "0eb13f9a-b209-4614-f1f3-137e336132bc"
      },
      "source": [
        "# Ploting model loss\n",
        "plt.plot(history.history['loss'])\n",
        "plt.plot(history.history['val_loss'])\n",
        "plt.title('model loss')\n",
        "plt.ylabel('loss')\n",
        "plt.xlabel('epoch')\n",
        "plt.legend(['train', 'test'], loc='upper right')\n",
        "plt.show()"
      ],
      "execution_count": 23,
      "outputs": [
        {
          "output_type": "display_data",
          "data": {
            "image/png": "[encoded data removed]",
            "text/plain": [
              "<Figure size 432x288 with 1 Axes>"
            ]
          },
          "metadata": {
            "tags": [],
            "needs_background": "light"
          }
        }
      ]
    },
    {
      "cell_type": "code",
      "metadata": {
        "id": "gp8_1yiyBj5N",
        "colab_type": "code",
        "colab": {
          "base_uri": "https://localhost:8080/",
          "height": 295
        },
        "outputId": "b8ec62aa-1952-489e-8c6c-6c54d241ee01"
      },
      "source": [
        "#Visualize the models accuracy\n",
        "plt.plot(history.history['accuracy'])\n",
        "plt.plot(history.history['val_accuracy'])\n",
        "plt.title('Model accuracy')\n",
        "plt.ylabel('Accuracy')\n",
        "plt.xlabel('Epoch')\n",
        "plt.legend(['train', 'test'], loc='lower right')\n",
        "plt.show()"
      ],
      "execution_count": 24,
      "outputs": [
        {
          "output_type": "display_data",
          "data": {
            "image/png": "[encoded data removed]",
            "text/plain": [
              "<Figure size 432x288 with 1 Axes>"
            ]
          },
          "metadata": {
            "tags": [],
            "needs_background": "light"
          }
        }
      ]
    },
    {
      "cell_type": "code",
      "metadata": {
        "id": "oqKRWQT9B72W",
        "colab_type": "code",
        "colab": {
          "base_uri": "https://localhost:8080/",
          "height": 52
        },
        "outputId": "755c8c74-fc06-4a82-b471-14a65ded5abb"
      },
      "source": [
        "model.evaluate(testX, testY)[1]"
      ],
      "execution_count": 22,
      "outputs": [
        {
          "output_type": "stream",
          "text": [
            "500/500 [==============================] - 2s 3ms/step\n"
          ],
          "name": "stdout"
        },
        {
          "output_type": "execute_result",
          "data": {
            "text/plain": [
              "0.8840000033378601"
            ]
          },
          "metadata": {
            "tags": []
          },
          "execution_count": 22
        }
      ]
    },
    {
      "cell_type": "code",
      "metadata": {
        "id": "obPBX0YhC0gP",
        "colab_type": "code",
        "colab": {}
      },
      "source": [
        ""
      ],
      "execution_count": 0,
      "outputs": []
    },
    {
      "cell_type": "code",
      "metadata": {
        "id": "SwUREG4eD6Gn",
        "colab_type": "code",
        "colab": {}
      },
      "source": [
        ""
      ],
      "execution_count": 0,
      "outputs": []
    }
  ]
}