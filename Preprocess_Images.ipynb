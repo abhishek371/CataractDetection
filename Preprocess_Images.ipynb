{
 "cells": [
  {
   "cell_type": "code",
   "execution_count": 3,
   "metadata": {},
   "outputs": [
    {
     "name": "stdout",
     "output_type": "stream",
     "text": [
      "lol1\n",
      "lol2\n",
      "lol3\n",
      "lol1\n",
      "lol2\n",
      "lol3\n",
      "lol1\n",
      "lol2\n",
      "lol3\n",
      "lol1\n",
      "lol2\n",
      "lol3\n",
      "lol1\n",
      "lol2\n",
      "lol3\n",
      "lol1\n",
      "lol2\n",
      "lol3\n",
      "lol1\n",
      "lol2\n",
      "lol3\n",
      "lol1\n",
      "lol2\n",
      "lol3\n",
      "lol1\n",
      "lol2\n",
      "lol3\n",
      "lol1\n",
      "lol2\n",
      "lol3\n"
     ]
    }
   ],
   "source": [
    "from tensorflow import keras\n",
    "from numpy import expand_dims\n",
    "from keras.preprocessing.image import load_img\n",
    "from keras.preprocessing.image import img_to_array\n",
    "from keras.preprocessing.image import ImageDataGenerator\n",
    "import matplotlib.pyplot as plt\n",
    "import glob \n",
    "from os import listdir,makedirs\n",
    "from os.path import isfile,join\n",
    "from numpy import *\n",
    "from PIL import Image\n",
    "import cv2\n",
    "import os \n",
    "\n",
    "path_1=\"D:/MajorProject/testing_Images/\"\n",
    "path_2 = \"D:/MajorProject/modified_testing_Images/\"\n",
    "\n",
    "p1=path_1+\"/Normal\"\n",
    "path=p1\n",
    "IMG_SIZE=300\n",
    "\n",
    "files = [f for f in listdir(path) if isfile(join(path,f))] \n",
    "for image in files:\n",
    "    img = cv2.imread(os.path.join(path,image))\n",
    "    gray = cv2.cvtColor(img,cv2.COLOR_BGR2GRAY)\n",
    "    # gray = cv2.resize(gray, (200,200)) \n",
    "    gr = cv2.resize(gray,(IMG_SIZE,IMG_SIZE))\n",
    "    print(\"lol1\")\n",
    "    dstPath = join(path_2+\"/Normal\",image)\n",
    "    print(\"lol2\")\n",
    "    cv2.imwrite(dstPath,gr)\n",
    "    print(\"lol3\")\n",
    "\n",
    "p2=path_1+\"/Cataract\"\n",
    "path=p2\n",
    "files = [f for f in listdir(path) if isfile(join(path,f))] \n",
    "for image in files:\n",
    "    img = cv2.imread(os.path.join(path,image))\n",
    "    gray = cv2.cvtColor(img,cv2.COLOR_BGR2GRAY)\n",
    "    gr = cv2.resize(gray,(IMG_SIZE,IMG_SIZE))\n",
    "    dstPath = join(path_2+\"/Cataract\",image)\n",
    "    cv2.imwrite(dstPath,gr)"
   ]
  },
  {
   "cell_type": "code",
   "execution_count": 3,
   "metadata": {},
   "outputs": [
    {
     "name": "stdout",
     "output_type": "stream",
     "text": [
      "     contrast  dissimilarity  homogeneity    energy  correlation  label\n",
      "0   50.620457       1.207436     0.776307  0.450756     0.991878      1\n",
      "1   50.952742       2.458450     0.601416  0.395459     0.990145      0\n",
      "2   49.650702       1.842319     0.647084  0.432807     0.993222      0\n",
      "3  276.048194      11.088038     0.100532  0.024588     0.964521      0\n",
      "4   52.249610       1.312129     0.747670  0.418415     0.993248      1\n"
     ]
    }
   ],
   "source": []
  },
  {
   "cell_type": "code",
   "execution_count": null,
   "metadata": {},
   "outputs": [],
   "source": []
  }
 ],
 "metadata": {
  "kernelspec": {
   "display_name": "Python 3",
   "language": "python",
   "name": "python3"
  },
  "language_info": {
   "codemirror_mode": {
    "name": "ipython",
    "version": 3
   },
   "file_extension": ".py",
   "mimetype": "text/x-python",
   "name": "python",
   "nbconvert_exporter": "python",
   "pygments_lexer": "ipython3",
   "version": "3.7.3"
  }
 },
 "nbformat": 4,
 "nbformat_minor": 2
}
